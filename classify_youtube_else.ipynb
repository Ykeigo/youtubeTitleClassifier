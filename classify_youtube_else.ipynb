{
 "cells": [
  {
   "cell_type": "markdown",
   "metadata": {},
   "source": [
    "https://qiita.com/m__k/items/98ff5fb4a4cb4e1eba26\n",
    "↑ここのやつを動かしている\n",
    "単語ベクトルはkaggleからとってきたgloveの単語ベクトル"
   ]
  },
  {
   "cell_type": "code",
   "execution_count": 1,
   "metadata": {},
   "outputs": [],
   "source": [
    "# torchtext\n",
    "import torchtext\n",
    "from torchtext import data\n",
    "from torchtext import datasets\n",
    "from torchtext.vocab import GloVe\n",
    "from torchtext.vocab import Vectors\n",
    "\n",
    "# pytorch\n",
    "import torch.nn as nn\n",
    "import torch.optim as optim\n",
    "import torch.nn.functional as F\n",
    "import torch\n",
    "\n",
    "# その他もろもろ\n",
    "import os\n",
    "import pickle\n",
    "import numpy as np\n",
    "import pandas as pd\n",
    "from itertools import chain\n",
    "from sklearn.model_selection import train_test_split\n",
    "from sklearn.metrics import classification_report\n",
    "\n",
    "# 最後にattentionを可視化するときに使います。\n",
    "import itertools\n",
    "import random\n",
    "from IPython.display import display, HTML\n",
    "\n",
    "import MeCab\n",
    "import gensim"
   ]
  },
  {
   "cell_type": "code",
   "execution_count": 2,
   "metadata": {},
   "outputs": [],
   "source": [
    "#nltk_analyzer(\"I have a pen.\")"
   ]
  },
  {
   "cell_type": "code",
   "execution_count": 3,
   "metadata": {},
   "outputs": [],
   "source": [
    "me = MeCab.Tagger (\"-Owakati\")\n",
    "def mecab_tokenizer(text):\n",
    "    return me.parse(text).split()\n",
    "\n",
    "# train.tsv, test.tsvをここに置いとく\n",
    "imdb_dir = \"./datas\"\n",
    "\n",
    "# glove.6B.200d.txtをここに置いとく\n",
    "word_embedding_dir = \"./\"\n",
    "\n",
    "TEXT = data.Field(sequential=True, tokenize=mecab_tokenizer, lower=True, include_lengths=True, batch_first=True)\n",
    "TEXT_nobatch = data.Field(sequential=True, tokenize=mecab_tokenizer, lower=True, include_lengths=True, batch_first=False)\n",
    "\n",
    "LABEL = data.Field(sequential=False, use_vocab=False, is_target=True)\n",
    "\n",
    "train, test = data.TabularDataset.splits(\n",
    "      path=imdb_dir, train='train_class.tsv', test='test_class.tsv', format='tsv',\n",
    "      fields=[('Text', TEXT), ('Label', LABEL)])\n",
    "\n",
    "#glove_vectors = Vectors(name=word_embedding_dir + \"glove.6B.200d.txt\")\n",
    "\n",
    "#TEXT.build_vocab(train, vectors=glove_vectors, min_freq=1)"
   ]
  },
  {
   "cell_type": "code",
   "execution_count": 4,
   "metadata": {},
   "outputs": [
    {
     "data": {
      "text/plain": [
       "['友人', '代表', 'の', 'スピーチ', '、', '独', '女', 'は', 'どう', 'こなし', 'て', 'いる', '？']"
      ]
     },
     "execution_count": 4,
     "metadata": {},
     "output_type": "execute_result"
    }
   ],
   "source": [
    "train.examples[0].Text"
   ]
  },
  {
   "cell_type": "code",
   "execution_count": 5,
   "metadata": {},
   "outputs": [],
   "source": [
    "kakko_labels = [0,0]\n",
    "\n",
    "for i, ex in enumerate(test.examples):\n",
    "        #print(i.Text)\n",
    "        if \"【\" in ex.Text or \"】\" in ex.Text:\n",
    "            kakko_labels[int(ex.Label)] += 1"
   ]
  },
  {
   "cell_type": "code",
   "execution_count": 6,
   "metadata": {},
   "outputs": [
    {
     "data": {
      "text/plain": [
       "[47, 506]"
      ]
     },
     "execution_count": 6,
     "metadata": {},
     "output_type": "execute_result"
    }
   ],
   "source": [
    "kakko_labels"
   ]
  },
  {
   "cell_type": "code",
   "execution_count": null,
   "metadata": {},
   "outputs": [],
   "source": []
  },
  {
   "cell_type": "code",
   "execution_count": 7,
   "metadata": {},
   "outputs": [],
   "source": [
    "embedding = gensim.models.KeyedVectors.load_word2vec_format(\"model.vec\")"
   ]
  },
  {
   "cell_type": "code",
   "execution_count": 8,
   "metadata": {},
   "outputs": [],
   "source": [
    "#labels[0]"
   ]
  },
  {
   "cell_type": "code",
   "execution_count": 9,
   "metadata": {},
   "outputs": [],
   "source": [
    "#len(embedding.index2word)"
   ]
  },
  {
   "cell_type": "code",
   "execution_count": 10,
   "metadata": {},
   "outputs": [],
   "source": [
    "device = torch.device(\"cuda\" if torch.cuda.is_available() else \"cpu\")\n",
    "#device = torch.device(\"cpu\")\n",
    "\n",
    "BATCH_SIZE = 100 # バッチサイズ\n",
    "EMBEDDING_DIM = 300 # 単語の埋め込み次元数\n",
    "LSTM_DIM = 128 # LSTMの隠れ層の次元数\n",
    "#VOCAB_SIZE = len(embedding.index2word) # 全単語数\n",
    "TAG_SIZE = 2 # 今回はネガポジ判定を行うのでネットワークの最後のサイズは2\n",
    "DA = 128 # AttentionをNeural Networkで計算する際の重み行列のサイズ\n",
    "R = 1 # Attentionの数"
   ]
  },
  {
   "cell_type": "code",
   "execution_count": 11,
   "metadata": {},
   "outputs": [],
   "source": [
    "class BiLSTMEncoder(nn.Module):\n",
    "    def __init__(self, embedding_dim, lstm_dim):\n",
    "        super(BiLSTMEncoder, self).__init__() #親の__init__で一回初期化する\n",
    "        self.lstm_dim = lstm_dim\n",
    "        \n",
    "        # bidirectional=Trueでお手軽に双方向のLSTMにできる\n",
    "        self.bilstm = nn.LSTM(embedding_dim, lstm_dim, batch_first=True, bidirectional=True)\n",
    "\n",
    "    def forward(self, sentences):\n",
    "        #print(\"forward\")\n",
    "        #分かち書きテキストが来るのでembeddingにする\n",
    "        embeds = []\n",
    "        for s in sentences:\n",
    "            #print(s)\n",
    "            vecs = []\n",
    "            for w in s:\n",
    "                if w in embedding:\n",
    "                    vecs.append(embedding[w])\n",
    "                else:\n",
    "                    vecs.append(np.zeros(EMBEDDING_DIM))\n",
    "            #vecs = torch.tensor(vecs)\n",
    "            #print(vecs.shape)\n",
    "            embeds.append(vecs)\n",
    "            \n",
    "        embeds = torch.tensor(embeds).float()\n",
    "        #print(\"embeddings shape {}\".format(embeds.shape))\n",
    "        \n",
    "        # 各隠れ層のベクトルがほしいので第１戻り値を受け取る\n",
    "        out, _ = self.bilstm(embeds)\n",
    "\n",
    "        # 前方向と後ろ方向の各隠れ層のベクトルを結合したままの状態で返す\n",
    "        return out"
   ]
  },
  {
   "cell_type": "code",
   "execution_count": 12,
   "metadata": {},
   "outputs": [],
   "source": [
    "class SelfAttention(nn.Module):\n",
    "  def __init__(self, lstm_dim, da, r):\n",
    "    super(SelfAttention, self).__init__()\n",
    "    self.lstm_dim = lstm_dim\n",
    "    self.da = da\n",
    "    self.r = r\n",
    "    self.main = nn.Sequential(\n",
    "        # Bidirectionalなので各隠れ層のベクトルの次元は２倍のサイズになってます。\n",
    "        nn.Linear(lstm_dim * 2, da), \n",
    "        nn.Tanh(),\n",
    "        nn.Linear(da, r)\n",
    "    )\n",
    "  def forward(self, out):\n",
    "    return F.softmax(self.main(out), dim=1)"
   ]
  },
  {
   "cell_type": "code",
   "execution_count": 13,
   "metadata": {},
   "outputs": [],
   "source": [
    "class SelfAttentionClassifier(nn.Module):\n",
    "  def __init__(self, lstm_dim, da, r, tagset_size):\n",
    "    super(SelfAttentionClassifier, self).__init__()\n",
    "    self.lstm_dim = lstm_dim\n",
    "    self.r = r\n",
    "    self.attn = SelfAttention(lstm_dim, da, r)\n",
    "    self.main = nn.Linear(lstm_dim * 2 * r, tagset_size)\n",
    "\n",
    "  def forward(self, out):\n",
    "    attention_weight = self.attn(out)\n",
    "    \n",
    "    feats = torch.tensor([], device=device)\n",
    "    for i in range(self.r):\n",
    "        m1 = (out * attention_weight[:,:,i].unsqueeze(2)).sum(dim=1)\n",
    "        feats = torch.cat([feats, m1], dim = 1)\n",
    "    #m1 = (out * attention_weight[:,:,0].unsqueeze(2)).sum(dim=1)\n",
    "    #m2 = (out * attention_weight[:,:,1].unsqueeze(2)).sum(dim=1)\n",
    "    #m3 = (out * attention_weight[:,:,2].unsqueeze(2)).sum(dim=1)\n",
    "    #feats = torch.cat([m1, m2, m3], dim=1)\n",
    "    return F.log_softmax(self.main(feats)), attention_weight"
   ]
  },
  {
   "cell_type": "code",
   "execution_count": 14,
   "metadata": {},
   "outputs": [],
   "source": [
    "def makeWordsBatch(examples, batch_size):\n",
    "    datas = []\n",
    "    for i in examples.examples:\n",
    "        #print(i.Text)\n",
    "        datas.append([i.Text, i.Label])\n",
    "    \n",
    "    #train, test = train_test_split(datas, test_size=0.2, shuffle = True)\n",
    "    \n",
    "    datas = sorted(datas, key=lambda x: len(x[0]), reverse=True)\n",
    "    #print(datas)\n",
    "    batchs = []\n",
    "    for i in range(0, len(datas), batch_size):\n",
    "        batch = datas[i : min(len(datas), i+batch_size)]\n",
    "        \n",
    "        maxLengh = len(batch[0][0])\n",
    "        for j in range(len(batch)):\n",
    "            #if len(batch[j][0]) < maxLengh:\n",
    "                #print(\"pad\")\n",
    "            batch[j][0] += [\"[PAD]\"]*(maxLengh-len(batch[j][0]))\n",
    "            #print(batch[j])\n",
    "        batchs.append(np.array(batch))\n",
    "    \n",
    "    return batchs"
   ]
  },
  {
   "cell_type": "code",
   "execution_count": 15,
   "metadata": {},
   "outputs": [],
   "source": [
    "encoder = BiLSTMEncoder(EMBEDDING_DIM, LSTM_DIM).to(device)\n",
    "classifier = SelfAttentionClassifier(LSTM_DIM, DA, R, TAG_SIZE).to(device)\n",
    "loss_function = nn.NLLLoss()\n",
    "\n",
    "# 複数のモデルを from itertools import chain で囲えばoptimizerをまとめて1つにできる\n",
    "optimizer = optim.Adam(chain(encoder.parameters(), classifier.parameters()), lr=0.001)\n",
    "\n",
    "train_batch = makeWordsBatch(train, BATCH_SIZE)\n",
    "test_batch = makeWordsBatch(test, BATCH_SIZE)"
   ]
  },
  {
   "cell_type": "code",
   "execution_count": 16,
   "metadata": {
    "scrolled": true
   },
   "outputs": [
    {
     "name": "stderr",
     "output_type": "stream",
     "text": [
      "<ipython-input-13-1f20314e62cf>:20: UserWarning: Implicit dimension choice for log_softmax has been deprecated. Change the call to include dim=X as an argument.\n",
      "  return F.log_softmax(self.main(feats)), attention_weight\n"
     ]
    },
    {
     "name": "stdout",
     "output_type": "stream",
     "text": [
      "epoch 0 \t loss 43.71581791341305\n",
      "epoch 1 \t loss 31.060765251517296\n",
      "epoch 2 \t loss 25.640651881694794\n",
      "epoch 3 \t loss 26.564660646021366\n",
      "epoch 4 \t loss 20.542380791157484\n",
      "epoch 5 \t loss 14.590887319296598\n",
      "epoch 6 \t loss 12.521175934001803\n",
      "epoch 7 \t loss 10.498157802969217\n",
      "epoch 8 \t loss 9.344554176554084\n",
      "epoch 9 \t loss 8.329964959761128\n",
      "epoch 10 \t loss 6.985395222029183\n",
      "epoch 11 \t loss 5.840874685673043\n",
      "epoch 12 \t loss 4.79038558609318\n",
      "epoch 13 \t loss 3.8382821249833796\n",
      "epoch 14 \t loss 3.123822103982093\n",
      "epoch 15 \t loss 3.1677562475961167\n",
      "epoch 16 \t loss 3.0932017067971174\n",
      "epoch 17 \t loss 3.188196316783433\n",
      "epoch 18 \t loss 2.5356567108538\n",
      "epoch 19 \t loss 2.199875472644635\n",
      "epoch 20 \t loss 1.6431942588624224\n",
      "epoch 21 \t loss 2.660175201614038\n",
      "epoch 22 \t loss 1.8221130265592365\n",
      "epoch 23 \t loss 1.1801957328498247\n",
      "epoch 24 \t loss 0.94119790438981\n",
      "epoch 25 \t loss 0.8679495206233696\n",
      "epoch 26 \t loss 0.6514129947954643\n",
      "epoch 27 \t loss 0.9034361888498097\n",
      "epoch 28 \t loss 1.4792188552382868\n",
      "epoch 29 \t loss 0.6381396747237886\n",
      "epoch 30 \t loss 0.839923484935639\n",
      "epoch 31 \t loss 0.7803754378987833\n",
      "epoch 32 \t loss 0.8947422050794103\n",
      "epoch 33 \t loss 0.5692789069053106\n",
      "epoch 34 \t loss 0.6401056429972414\n",
      "epoch 35 \t loss 0.5661615637072828\n",
      "epoch 36 \t loss 1.3746702380465194\n",
      "epoch 37 \t loss 1.431224271243991\n",
      "epoch 38 \t loss 0.4385735605392256\n",
      "epoch 39 \t loss 0.3028336068164208\n",
      "epoch 40 \t loss 0.2725139986642944\n",
      "epoch 41 \t loss 0.23986184081240935\n",
      "epoch 42 \t loss 0.21692829363837518\n",
      "epoch 43 \t loss 0.20266773689945694\n",
      "epoch 44 \t loss 0.19242594882439334\n",
      "epoch 45 \t loss 0.18415881039845772\n",
      "epoch 46 \t loss 0.17723308603518717\n",
      "epoch 47 \t loss 0.1713896677467801\n",
      "epoch 48 \t loss 0.16640421107328507\n",
      "epoch 49 \t loss 0.16210130260685673\n",
      "epoch 50 \t loss 0.1583535466664614\n"
     ]
    }
   ],
   "source": [
    "losses = []\n",
    "stop_count = 0\n",
    "best_loss = 10000\n",
    "\n",
    "for epoch in range(100):\n",
    "    epoch_loss = 0\n",
    "    #print(train_batch)\n",
    "    for idx, batch in enumerate(train_batch):\n",
    "        #print(idx)\n",
    "        #print(batch)\n",
    "        \n",
    "        batch_loss = 0\n",
    "        encoder.zero_grad()\n",
    "        classifier.zero_grad()\n",
    "\n",
    "        text_tensor = batch[:, 0]\n",
    "        #print(\"text tensor shape{}\".format(text_tensor.shape))\n",
    "        label_tensor = batch[:, 1].astype(np.long)\n",
    "        label_tensor = torch.from_numpy(label_tensor)\n",
    "        #print(label_tensor.size())\n",
    "        out = encoder(text_tensor)\n",
    "        #print(out.size())\n",
    "        score, attn = classifier(out)\n",
    "        #print(score.size())\n",
    "        #print(score)\n",
    "        #print(label_tensor.size())\n",
    "        #print(label_tensor)\n",
    "        batch_loss = loss_function(score, label_tensor)\n",
    "        batch_loss.backward()\n",
    "        optimizer.step()\n",
    "        epoch_loss += batch_loss.item()\n",
    "        \n",
    "        #break\n",
    "        \n",
    "    print(\"epoch\", epoch, \"\\t\" , \"loss\", epoch_loss)\n",
    "    \n",
    "    #終了条件（ガバガバ）\n",
    "    if best_loss - epoch_loss < 0.01:\n",
    "        #print(\"更新できず\")\n",
    "        stop_count += 1\n",
    "        if stop_count > 5:\n",
    "            break\n",
    "    else:\n",
    "        stop_count = 0\n",
    "        \n",
    "    if best_loss > epoch_loss:\n",
    "        best_loss = epoch_loss\n",
    "    \n",
    "    losses.append(epoch_loss)\n",
    "#epoch 0     loss 97.37978366017342\n",
    "#epoch 1     loss 50.07680431008339\n",
    "#epoch 2     loss 27.79373042844236\n",
    "#epoch 3     loss 9.353876578621566\n",
    "#epoch 4     loss 1.9509600398596376\n",
    "#epoch 5     loss 0.22650832029466983\n",
    "#epoch 6     loss 0.021685686125238135\n",
    "#epoch 7     loss 0.011305359620109812\n",
    "#epoch 8     loss 0.007448446772286843\n",
    "#epoch 9     loss 0.005398457038154447"
   ]
  },
  {
   "cell_type": "code",
   "execution_count": 17,
   "metadata": {},
   "outputs": [
    {
     "data": {
      "text/plain": [
       "[<matplotlib.lines.Line2D at 0x1577a7ac0>]"
      ]
     },
     "execution_count": 17,
     "metadata": {},
     "output_type": "execute_result"
    },
    {
     "data": {
      "image/png": "[encoded data removed]",
      "text/plain": [
       "<Figure size 432x288 with 1 Axes>"
      ]
     },
     "metadata": {
      "needs_background": "light"
     },
     "output_type": "display_data"
    }
   ],
   "source": [
    "import matplotlib.pyplot as plt\n",
    "%matplotlib inline\n",
    "plt.plot(losses)"
   ]
  },
  {
   "cell_type": "code",
   "execution_count": 18,
   "metadata": {},
   "outputs": [],
   "source": [
    "torch.save(encoder.state_dict(), \"encoder.trained\")\n",
    "torch.save(classifier.state_dict(), \"classifier.trained\")"
   ]
  },
  {
   "cell_type": "code",
   "execution_count": 19,
   "metadata": {},
   "outputs": [
    {
     "name": "stderr",
     "output_type": "stream",
     "text": [
      "<ipython-input-13-1f20314e62cf>:20: UserWarning: Implicit dimension choice for log_softmax has been deprecated. Change the call to include dim=X as an argument.\n",
      "  return F.log_softmax(self.main(feats)), attention_weight\n"
     ]
    },
    {
     "name": "stdout",
     "output_type": "stream",
     "text": [
      "100\n",
      "200\n",
      "300\n",
      "400\n",
      "500\n",
      "600\n",
      "700\n",
      "800\n",
      "900\n",
      "1000\n",
      "1100\n",
      "1200\n",
      "1300\n",
      "1400\n",
      "1500\n",
      "1600\n",
      "1700\n",
      "1723\n",
      "              precision    recall  f1-score   support\n",
      "\n",
      "    positive       0.97      0.93      0.95       946\n",
      "    negative       0.92      0.97      0.94       777\n",
      "\n",
      "    accuracy                           0.95      1723\n",
      "   macro avg       0.95      0.95      0.95      1723\n",
      "weighted avg       0.95      0.95      0.95      1723\n",
      "\n"
     ]
    }
   ],
   "source": [
    "answer = []\n",
    "prediction = []\n",
    "\n",
    "zero_predictions = []\n",
    "\n",
    "with torch.no_grad():\n",
    "    for batch in test_batch:\n",
    "\n",
    "        text_tensor = batch[:, 0]\n",
    "        #print(\"text tensor shape{}\".format(text_tensor.shape))\n",
    "        label_tensor = batch[:, 1].astype(np.long)\n",
    "        label_tensor = torch.from_numpy(label_tensor)\n",
    "\n",
    "        out = encoder(text_tensor)\n",
    "        #print(out)\n",
    "        score, _ = classifier(out)\n",
    "        _, pred = torch.max(score, 1)\n",
    "        #print(score[:,0].tolist())\n",
    "        #ラベル0の出力を全部記録する\n",
    "        zero_predictions = zero_predictions+score[:,0].tolist()\n",
    "        print(len(zero_predictions))\n",
    "\n",
    "        prediction += list(pred.cpu().numpy())\n",
    "        answer += list(label_tensor.cpu().numpy())\n",
    "print(classification_report(prediction, answer, target_names=['positive', 'negative']))"
   ]
  },
  {
   "cell_type": "code",
   "execution_count": 19,
   "metadata": {},
   "outputs": [
    {
     "ename": "NameError",
     "evalue": "name 'plt' is not defined",
     "output_type": "error",
     "traceback": [
      "\u001b[0;31m---------------------------------------------------------------------------\u001b[0m",
      "\u001b[0;31mNameError\u001b[0m                                 Traceback (most recent call last)",
      "\u001b[0;32m<ipython-input-19-ba4ceff2b710>\u001b[0m in \u001b[0;36m<module>\u001b[0;34m\u001b[0m\n\u001b[1;32m      4\u001b[0m \u001b[0mzero_predictions\u001b[0m\u001b[0;34m.\u001b[0m\u001b[0msort\u001b[0m\u001b[0;34m(\u001b[0m\u001b[0;34m)\u001b[0m\u001b[0;34m\u001b[0m\u001b[0;34m\u001b[0m\u001b[0m\n\u001b[1;32m      5\u001b[0m \u001b[0;34m\u001b[0m\u001b[0m\n\u001b[0;32m----> 6\u001b[0;31m \u001b[0mplt\u001b[0m\u001b[0;34m.\u001b[0m\u001b[0mplot\u001b[0m\u001b[0;34m(\u001b[0m\u001b[0mzero_predictions\u001b[0m\u001b[0;34m)\u001b[0m\u001b[0;34m\u001b[0m\u001b[0;34m\u001b[0m\u001b[0m\n\u001b[0m",
      "\u001b[0;31mNameError\u001b[0m: name 'plt' is not defined"
     ]
    }
   ],
   "source": [
    "#print(zero_predictions)\n",
    "%matplotlib inline\n",
    "\n",
    "zero_predictions.sort()\n",
    "\n",
    "plt.plot(zero_predictions)"
   ]
  },
  {
   "cell_type": "code",
   "execution_count": 18,
   "metadata": {},
   "outputs": [
    {
     "name": "stdout",
     "output_type": "stream",
     "text": [
      "[list(['「', 'めざまし', 'テレビ', '」', '大塚', '範一', 'アナ', 'の', '“', '卒業', '”', 'が', 'ネット', '上', 'で', '話題', '[PAD]'])]\n",
      "tensor([[0]])\n",
      "tensor([-1.3947e-05, -1.1177e+01], grad_fn=<SelectBackward>)\n"
     ]
    },
    {
     "name": "stderr",
     "output_type": "stream",
     "text": [
      "<ipython-input-13-1f20314e62cf>:20: UserWarning: Implicit dimension choice for log_softmax has been deprecated. Change the call to include dim=X as an argument.\n",
      "  return F.log_softmax(self.main(feats)), attention_weight\n"
     ]
    },
    {
     "data": {
      "text/html": [
       "【正解】negative\t【予測】negative<br><br>"
      ],
      "text/plain": [
       "<IPython.core.display.HTML object>"
      ]
     },
     "metadata": {},
     "output_type": "display_data"
    },
    {
     "data": {
      "text/html": [
       " <span style=\"background-color: #FFECEC\">「</span> <span style=\"background-color: #FFFAFA\">めざまし</span> <span style=\"background-color: #FFE1E1\">テレビ</span> <span style=\"background-color: #FFFAFA\">」</span> <span style=\"background-color: #FFE2E2\">大塚</span> <span style=\"background-color: #FFFCFC\">範一</span> <span style=\"background-color: #FFEBEB\">アナ</span> <span style=\"background-color: #FFFDFD\">の</span> <span style=\"background-color: #FFEDED\">“</span> <span style=\"background-color: #FFF9F9\">卒業</span> <span style=\"background-color: #FFF9F9\">”</span> <span style=\"background-color: #FFFEFE\">が</span> <span style=\"background-color: #FFFEFE\">ネット</span> <span style=\"background-color: #FFFFFF\">上</span> <span style=\"background-color: #FFFEFE\">で</span> <span style=\"background-color: #FF8B8B\">話題</span> <span style=\"background-color: #FFFEFE\">[PAD]</span><br><br>"
      ],
      "text/plain": [
       "<IPython.core.display.HTML object>"
      ]
     },
     "metadata": {},
     "output_type": "display_data"
    }
   ],
   "source": [
    "def highlight(word, attn):\n",
    "    html_color = '#%02X%02X%02X' % (255, int(255*(1 - attn)), int(255*(1 - attn)))\n",
    "    return '<span style=\"background-color: {}\">{}</span>'.format(html_color, word)\n",
    "\n",
    "def mk_html(sentence, attns):\n",
    "    html = \"\"\n",
    "    for word, attn in zip(sentence, attns):\n",
    "        html += ' ' + highlight(\n",
    "            word,\n",
    "            attn\n",
    "        )\n",
    "        #print(word)\n",
    "        #print(TEXT.vocab.itos[word])\n",
    "    return html\n",
    "\n",
    "id2ans = {1: 'positive', 0:'negative'}\n",
    "\n",
    "#print(id2ans[1])\n",
    "\n",
    "test_batch_1 = makeWordsBatch(test, 1)\n",
    "\n",
    "n = random.randrange(len(test_batch_1))\n",
    "\n",
    "for batch in itertools.islice(test_batch_1, n-1,n):\n",
    "    text_tensor = batch[:, 0]\n",
    "    print(text_tensor)\n",
    "    #print(\"text tensor shape{}\".format(text_tensor.shape))\n",
    "    label_tensor = batch[:, 1].astype(np.long)\n",
    "    label_tensor = torch.from_numpy(label_tensor)\n",
    "    #print(label_tensor[0])\n",
    "    \n",
    "    encoder_outputs = encoder(text_tensor)\n",
    "    output, attn = classifier(encoder_outputs)\n",
    "    pred = output.data.max(1, keepdim=True)[1]\n",
    "    print(pred)\n",
    "    print(output[0])\n",
    "    display(HTML('【正解】' + id2ans[int(label_tensor)] + '\\t【予測】' + id2ans[int(pred)] + '<br><br>'))\n",
    "    #print(attn)\n",
    "    for i in range(attn.size()[2]):\n",
    "      display(HTML(mk_html(text_tensor[0], attn.data[0,:,i]) + '<br><br>'))"
   ]
  },
  {
   "cell_type": "code",
   "execution_count": 19,
   "metadata": {},
   "outputs": [
    {
     "name": "stdout",
     "output_type": "stream",
     "text": [
      "【神回】バズレンダでマナが大変なことに?!【驚愕】\n",
      "[['【' '神' '回' '】' 'バズレンダ' 'で' 'マナ' 'が' '大変' 'な' 'こと' 'に' '?!【' '驚愕' '】']]\n",
      "tensor([-1.5796e+01, -1.1921e-07], grad_fn=<SelectBackward>)\n",
      "再生回数：1182330回\n",
      "tensor([[1]])\n",
      "positive\n"
     ]
    },
    {
     "name": "stderr",
     "output_type": "stream",
     "text": [
      "<ipython-input-13-1f20314e62cf>:20: UserWarning: Implicit dimension choice for log_softmax has been deprecated. Change the call to include dim=X as an argument.\n",
      "  return F.log_softmax(self.main(feats)), attention_weight\n"
     ]
    },
    {
     "data": {
      "text/html": [
       "\t【予測】positive<br><br>"
      ],
      "text/plain": [
       "<IPython.core.display.HTML object>"
      ]
     },
     "metadata": {},
     "output_type": "display_data"
    },
    {
     "data": {
      "text/html": [
       " <span style=\"background-color: #FFFEFE\">【</span> <span style=\"background-color: #FFFFFF\">神</span> <span style=\"background-color: #FFE6E6\">回</span> <span style=\"background-color: #FF4D4D\">】</span> <span style=\"background-color: #FFFEFE\">バズレンダ</span> <span style=\"background-color: #FFFFFF\">で</span> <span style=\"background-color: #FFFEFE\">マナ</span> <span style=\"background-color: #FFFFFF\">が</span> <span style=\"background-color: #FFFFFF\">大変</span> <span style=\"background-color: #FFFFFF\">な</span> <span style=\"background-color: #FFFFFF\">こと</span> <span style=\"background-color: #FFFFFF\">に</span> <span style=\"background-color: #FFFFFF\">?!【</span> <span style=\"background-color: #FFFFFF\">驚愕</span> <span style=\"background-color: #FFCBCB\">】</span><br><br>"
      ],
      "text/plain": [
       "<IPython.core.display.HTML object>"
      ]
     },
     "metadata": {},
     "output_type": "display_data"
    }
   ],
   "source": [
    "text = input()\n",
    "text_tensor = np.array([mecab_tokenizer(text)])\n",
    "print(text_tensor)\n",
    "\n",
    "id2ans = {1: 'positive', 0:'negative'}\n",
    "\n",
    "encoder_outputs = encoder(text_tensor)\n",
    "output, attn = classifier(encoder_outputs)\n",
    "pred = output.data.max(1, keepdim=True)[1]\n",
    "\n",
    "print(output[0])\n",
    "#print(\"{:.02f}\".format(np.power(np.e , float(output[0][0]))))\n",
    "print(\"再生回数：{:.0f}回\".format(-300 * np.power(float(output[0][0]),3) ))\n",
    "print(pred)\n",
    "print(id2ans[int(pred)])\n",
    "display(HTML( '\\t【予測】' + id2ans[int(pred)] + '<br><br>'))\n",
    "#print(attn)\n",
    "for i in range(attn.size()[2]):\n",
    "  display(HTML(mk_html(text_tensor[0], attn.data[0,:,i]) + '<br><br>'))"
   ]
  },
  {
   "cell_type": "markdown",
   "metadata": {},
   "source": [
    "新型フラフープで超効率独自シェイプアップ術！"
   ]
  },
  {
   "cell_type": "code",
   "execution_count": null,
   "metadata": {},
   "outputs": [],
   "source": []
  }
 ],
 "metadata": {
  "kernelspec": {
   "display_name": "Python 3",
   "language": "python",
   "name": "python3"
  },
  "language_info": {
   "codemirror_mode": {
    "name": "ipython",
    "version": 3
   },
   "file_extension": ".py",
   "mimetype": "text/x-python",
   "name": "python",
   "nbconvert_exporter": "python",
   "pygments_lexer": "ipython3",
   "version": "3.8.3"
  }
 },
 "nbformat": 4,
 "nbformat_minor": 4
}
