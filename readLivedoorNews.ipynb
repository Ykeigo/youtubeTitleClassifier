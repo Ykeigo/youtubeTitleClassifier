{
 "cells": [
  {
   "cell_type": "code",
   "execution_count": 20,
   "metadata": {},
   "outputs": [],
   "source": [
    "path = \"livedoorNews/title_1line/livedoor_texts.txt\"\n",
    "\n",
    "lines = None\n",
    "\n",
    "with open(path) as f:\n",
    "    lines = f.readlines()"
   ]
  },
  {
   "cell_type": "code",
   "execution_count": 44,
   "metadata": {},
   "outputs": [
    {
     "name": "stdout",
     "output_type": "stream",
     "text": [
      "no string\n",
      "no string\n",
      "no string\n",
      "no string\n",
      "no string\n"
     ]
    }
   ],
   "source": [
    "import random\n",
    "import csv\n",
    "\n",
    "path = \"livedoorNews/title_1line/.tsv\"\n",
    "\n",
    "with open(\"falseDatas.tsv\", 'w') as f:\n",
    "    writer = csv.writer(f, delimiter='\\t')\n",
    "    \n",
    "    line_i = 0\n",
    "    \n",
    "    for l in lines:\n",
    "        if l == \"\\n\":\n",
    "            print(\"no string\")\n",
    "            continue\n",
    "            \n",
    "        #マジでうざいすみかっこがあったのでそれだけ削除する\n",
    "        if l[:14] == \"【Sports Watch】\":\n",
    "            l = l[14:]\n",
    "        #改行削除\n",
    "        l = l[:-1]\n",
    "        #インデント削除\n",
    "        if l[0] == \"　\":\n",
    "            l = l[1:]\n",
    "        #print(l)\n",
    "        #偶数列目はタイトルなのでそのまま（一番上は0行目）\n",
    "        if line_i%2 == 0:\n",
    "            writer.writerow([l, 0])\n",
    "        #奇数列目は本文1行目なので。で区切って1文か2文出力\n",
    "        else:\n",
    "            sentences = l.split(\"。\")\n",
    "            #1文ならそれを出力\n",
    "            if len(sentences) < 2:\n",
    "                writer.writerow([l, 0])\n",
    "            #2文以上あればその中から1文か2文選んで出力\n",
    "            else:\n",
    "                sentence_n = random.randrange(2)\n",
    "                if sentence_n == 0:\n",
    "                    writer.writerow([sentences[0], 0])\n",
    "                else:\n",
    "                    writer.writerow([sentences[0]+\"。\"+sentences[1], 0])\n",
    "                    \n",
    "        line_i += 1"
   ]
  },
  {
   "cell_type": "code",
   "execution_count": 16,
   "metadata": {},
   "outputs": [
    {
     "name": "stdout",
     "output_type": "stream",
     "text": [
      "2\n",
      "2\n",
      "1\n",
      "1\n",
      "2\n",
      "1\n",
      "1\n",
      "2\n",
      "1\n",
      "1\n",
      "1\n",
      "2\n",
      "1\n",
      "2\n",
      "1\n",
      "2\n",
      "2\n",
      "1\n",
      "2\n",
      "2\n"
     ]
    }
   ],
   "source": [
    "import random\n",
    "for i in range(20):\n",
    "    print(random.randrange(1,3))"
   ]
  },
  {
   "cell_type": "code",
   "execution_count": 34,
   "metadata": {},
   "outputs": [],
   "source": [
    "with open(\"falseDatas.tsv\", 'w') as f:\n",
    "    writer = csv.writer(f, delimiter='\\t')\n",
    "    writer.writerow([\"おはようございます\", 0])"
   ]
  },
  {
   "cell_type": "code",
   "execution_count": 40,
   "metadata": {},
   "outputs": [
    {
     "data": {
      "text/plain": [
       "['おはようございます', '\\n']"
      ]
     },
     "execution_count": 40,
     "metadata": {},
     "output_type": "execute_result"
    }
   ],
   "source": [
    "a = \"おはようございます。\\n\"\n",
    "a.split(\"。\")"
   ]
  },
  {
   "cell_type": "code",
   "execution_count": null,
   "metadata": {},
   "outputs": [],
   "source": []
  }
 ],
 "metadata": {
  "kernelspec": {
   "display_name": "Python 3",
   "language": "python",
   "name": "python3"
  },
  "language_info": {
   "codemirror_mode": {
    "name": "ipython",
    "version": 3
   },
   "file_extension": ".py",
   "mimetype": "text/x-python",
   "name": "python",
   "nbconvert_exporter": "python",
   "pygments_lexer": "ipython3",
   "version": "3.8.3"
  }
 },
 "nbformat": 4,
 "nbformat_minor": 4
}
